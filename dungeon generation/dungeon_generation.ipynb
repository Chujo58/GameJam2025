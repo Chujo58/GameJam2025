{
 "cells": [
  {
   "cell_type": "code",
   "execution_count": 1,
   "metadata": {},
   "outputs": [],
   "source": [
    "%matplotlib inline \n",
    "import matplotlib.pyplot as plt\n",
    "import numpy as np\n",
    "from __future__ import annotations\n",
    "from typing import List\n",
    "\n",
    "size_map = 250\n",
    "max_generation = 3\n",
    "# min_room_area_size = \n",
    "min_ratio_room_area = 10"
   ]
  },
  {
   "cell_type": "code",
   "execution_count": 2,
   "metadata": {},
   "outputs": [],
   "source": [
    "class RoomArea:\n",
    "    def __init__(self, x: int, y: int, x_width: int, y_width: int):\n",
    "        self.x = x\n",
    "        self.y = y\n",
    "        self.x_width = x_width\n",
    "        self.y_width = y_width\n",
    "        self.child_areas: List[RoomArea] = []\n",
    "    \n",
    "    def add_child(self, room: RoomArea):\n",
    "        self.child_areas.append(room)\n",
    "\n",
    "    def plot(self, axs):\n",
    "        axs.add_patch(plt.Rectangle((self.x, self.y), self.x_width, self.y_width, fc='grey', ec='black'))\n",
    "        for child_area in self.child_areas:\n",
    "            child_area.plot(axs)"
   ]
  },
  {
   "cell_type": "code",
   "execution_count": 3,
   "metadata": {},
   "outputs": [],
   "source": [
    "def split(room: RoomArea):\n",
    "    split_dir = np.random.randint(0,2)\n",
    "    if split_dir:\n",
    "        return \"vertical\", np.random.randint(room.x, room.x + room.x_width)\n",
    "    else:\n",
    "        return \"horizontal\", np.random.randint(room.y, room.y + room.y_width)\n",
    "    \n",
    "\n",
    "def generate(curr_room: RoomArea, num: int):\n",
    "    if num >= max_generation:\n",
    "        return\n",
    "    \n",
    "    split_direction, split_value = split(curr_room)\n",
    "    if split_direction == \"vertical\":\n",
    "        new_x_width = curr_room.x_width - split_value + curr_room.x\n",
    "        if curr_room.y_width / new_x_width < min_ratio_room_area:\n",
    "            new_x_width = np.ceil(curr_room.y_width / min_ratio_room_area)\n",
    "            split_value = curr_room.x_width - new_x_width + curr_room.x\n",
    "            \n",
    "        curr_room.add_child(RoomArea(curr_room.x, curr_room.y, split_value, curr_room.y_width))\n",
    "        curr_room.add_child(RoomArea(split_value, curr_room.y, new_x_width, curr_room.y_width))\n",
    "    else:\n",
    "        new_y_width = curr_room.y_width - split_value + curr_room.y\n",
    "        if curr_room.x_width / new_y_width < min_ratio_room_area:\n",
    "            new_y_width = np.ceil(curr_room.x_width / min_ratio_room_area)\n",
    "            split_value = curr_room.y_width - new_y_width + curr_room.y\n",
    "            \n",
    "        curr_room.add_child(RoomArea(curr_room.x, split_value, curr_room.x_width, new_y_width))\n",
    "        curr_room.add_child(RoomArea(curr_room.x, curr_room.y, curr_room.x_width, split_value))\n",
    "\n",
    "    for room_area in curr_room.child_areas:\n",
    "        generate(room_area, num+1)\n",
    "\n",
    "    # for i in range(num):\n",
    "    #     split_direction, split_value = split(curr_room)\n",
    "    #     if split_direction == \"vertical\":\n",
    "    #         curr_room.add_child(RoomArea(root.x, root.y, split_value, root.y_width))\n",
    "    #         curr_room.add_child(RoomArea(split_value, root.y, root.x_width - split_value, root.y_width))\n",
    "    #     else:\n",
    "    #         curr_room.add_child(RoomArea(root.x, split_value, root.x_width, root.y_width - split_value))\n",
    "    #         curr_room.add_child(RoomArea(root.x, root.y, root.x_width, split_value))        "
   ]
  },
  {
   "cell_type": "code",
   "execution_count": 4,
   "metadata": {},
   "outputs": [],
   "source": [
    "x = 0; y = 0\n",
    "root = RoomArea(x, y, size_map, size_map)\n",
    "generate(root, 0)"
   ]
  },
  {
   "cell_type": "code",
   "execution_count": 5,
   "metadata": {},
   "outputs": [
    {
     "data": {
      "image/png": "[encoded data removed]",
      "text/plain": [
       "<Figure size 1000x1000 with 1 Axes>"
      ]
     },
     "metadata": {},
     "output_type": "display_data"
    }
   ],
   "source": [
    "fig, axs = plt.subplots(1,1)\n",
    "fig.set_size_inches(10,10)\n",
    "plt.xlim(0, size_map)\n",
    "plt.ylim(0, size_map)\n",
    "root.plot(axs)\n",
    "plt.show()"
   ]
  }
 ],
 "metadata": {
  "kernelspec": {
   "display_name": "Python 3",
   "language": "python",
   "name": "python3"
  },
  "language_info": {
   "codemirror_mode": {
    "name": "ipython",
    "version": 3
   },
   "file_extension": ".py",
   "mimetype": "text/x-python",
   "name": "python",
   "nbconvert_exporter": "python",
   "pygments_lexer": "ipython3",
   "version": "3.12.7"
  }
 },
 "nbformat": 4,
 "nbformat_minor": 2
}
